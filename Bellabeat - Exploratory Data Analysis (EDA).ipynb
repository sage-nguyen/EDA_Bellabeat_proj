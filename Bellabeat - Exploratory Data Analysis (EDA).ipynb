{
 "cells": [
  {
   "cell_type": "markdown",
   "id": "2ef7e8dd",
   "metadata": {},
   "source": [
    "## Import library and Read csv files"
   ]
  },
  {
   "cell_type": "code",
   "execution_count": 1,
   "id": "79692ffb",
   "metadata": {
    "scrolled": false
   },
   "outputs": [],
   "source": [
    "        \n",
    "# import necessary libraries\n",
    "import pandas as pd\n",
    "import seaborn as sns\n",
    "import matplotlib as plt\n",
    "from datetime import datetime as dt\n",
    "\n",
    "from IPython.core.interactiveshell import InteractiveShell\n",
    "InteractiveShell.ast_node_interactivity = \"all\"\n",
    "\n",
    "dailyActivity = pd.read_csv(\"Fitabase_data/dailyActivity_merged.csv\")\n",
    "dailyCalories = pd.read_csv(\"Fitabase_data/dailyCalories_merged.csv\")\n",
    "dailyIntensity = pd.read_csv(\"Fitabase_data/dailyIntensities_merged.csv\")\n",
    "dailyStep = pd.read_csv(\"Fitabase_data/dailySteps_merged.csv\")\n",
    "heartrate_seconds = pd.read_csv(\"Fitabase_data/heartrate_seconds_merged.csv\")\n",
    "hourlyCalories = pd.read_csv(\"Fitabase_data/hourlyCalories_merged.csv\")\n",
    "hourlyIntensities = pd.read_csv(\"Fitabase_data/hourlyIntensities_merged.csv\")\n",
    "hourlySteps = pd.read_csv(\"Fitabase_data/hourlySteps_merged.csv\")\n",
    "minuteSleep = pd.read_csv(\"Fitabase_data/minuteSleep_merged.csv\")\n",
    "sleepDay = pd.read_csv(\"Fitabase_data/sleepDay_merged.csv\")\n",
    "weightLogInfo = pd.read_csv(\"Fitabase_data/weightLogInfo_merged.csv\")\n",
    "\n"
   ]
  },
  {
   "cell_type": "markdown",
   "id": "8c8b7f79",
   "metadata": {},
   "source": [
    "## Preview the datasets"
   ]
  },
  {
   "cell_type": "code",
   "execution_count": 2,
   "id": "41a796d6",
   "metadata": {
    "scrolled": true
   },
   "outputs": [
    {
     "name": "stdout",
     "output_type": "stream",
     "text": [
      "dailyActivity\n"
     ]
    },
    {
     "data": {
      "text/html": [
       "<div>\n",
       "<style scoped>\n",
       "    .dataframe tbody tr th:only-of-type {\n",
       "        vertical-align: middle;\n",
       "    }\n",
       "\n",
       "    .dataframe tbody tr th {\n",
       "        vertical-align: top;\n",
       "    }\n",
       "\n",
       "    .dataframe thead th {\n",
       "        text-align: right;\n",
       "    }\n",
       "</style>\n",
       "<table border=\"1\" class=\"dataframe\">\n",
       "  <thead>\n",
       "    <tr style=\"text-align: right;\">\n",
       "      <th></th>\n",
       "      <th>Id</th>\n",
       "      <th>ActivityDate</th>\n",
       "      <th>TotalSteps</th>\n",
       "      <th>TotalDistance</th>\n",
       "      <th>TrackerDistance</th>\n",
       "      <th>LoggedActivitiesDistance</th>\n",
       "      <th>VeryActiveDistance</th>\n",
       "      <th>ModeratelyActiveDistance</th>\n",
       "      <th>LightActiveDistance</th>\n",
       "      <th>SedentaryActiveDistance</th>\n",
       "      <th>VeryActiveMinutes</th>\n",
       "      <th>FairlyActiveMinutes</th>\n",
       "      <th>LightlyActiveMinutes</th>\n",
       "      <th>SedentaryMinutes</th>\n",
       "      <th>Calories</th>\n",
       "    </tr>\n",
       "  </thead>\n",
       "  <tbody>\n",
       "    <tr>\n",
       "      <th>0</th>\n",
       "      <td>1503960366</td>\n",
       "      <td>4/12/2016</td>\n",
       "      <td>13162</td>\n",
       "      <td>8.50</td>\n",
       "      <td>8.50</td>\n",
       "      <td>0.0</td>\n",
       "      <td>1.88</td>\n",
       "      <td>0.55</td>\n",
       "      <td>6.06</td>\n",
       "      <td>0.0</td>\n",
       "      <td>25</td>\n",
       "      <td>13</td>\n",
       "      <td>328</td>\n",
       "      <td>728</td>\n",
       "      <td>1985</td>\n",
       "    </tr>\n",
       "    <tr>\n",
       "      <th>1</th>\n",
       "      <td>1503960366</td>\n",
       "      <td>4/13/2016</td>\n",
       "      <td>10735</td>\n",
       "      <td>6.97</td>\n",
       "      <td>6.97</td>\n",
       "      <td>0.0</td>\n",
       "      <td>1.57</td>\n",
       "      <td>0.69</td>\n",
       "      <td>4.71</td>\n",
       "      <td>0.0</td>\n",
       "      <td>21</td>\n",
       "      <td>19</td>\n",
       "      <td>217</td>\n",
       "      <td>776</td>\n",
       "      <td>1797</td>\n",
       "    </tr>\n",
       "    <tr>\n",
       "      <th>2</th>\n",
       "      <td>1503960366</td>\n",
       "      <td>4/14/2016</td>\n",
       "      <td>10460</td>\n",
       "      <td>6.74</td>\n",
       "      <td>6.74</td>\n",
       "      <td>0.0</td>\n",
       "      <td>2.44</td>\n",
       "      <td>0.40</td>\n",
       "      <td>3.91</td>\n",
       "      <td>0.0</td>\n",
       "      <td>30</td>\n",
       "      <td>11</td>\n",
       "      <td>181</td>\n",
       "      <td>1218</td>\n",
       "      <td>1776</td>\n",
       "    </tr>\n",
       "    <tr>\n",
       "      <th>3</th>\n",
       "      <td>1503960366</td>\n",
       "      <td>4/15/2016</td>\n",
       "      <td>9762</td>\n",
       "      <td>6.28</td>\n",
       "      <td>6.28</td>\n",
       "      <td>0.0</td>\n",
       "      <td>2.14</td>\n",
       "      <td>1.26</td>\n",
       "      <td>2.83</td>\n",
       "      <td>0.0</td>\n",
       "      <td>29</td>\n",
       "      <td>34</td>\n",
       "      <td>209</td>\n",
       "      <td>726</td>\n",
       "      <td>1745</td>\n",
       "    </tr>\n",
       "    <tr>\n",
       "      <th>4</th>\n",
       "      <td>1503960366</td>\n",
       "      <td>4/16/2016</td>\n",
       "      <td>12669</td>\n",
       "      <td>8.16</td>\n",
       "      <td>8.16</td>\n",
       "      <td>0.0</td>\n",
       "      <td>2.71</td>\n",
       "      <td>0.41</td>\n",
       "      <td>5.04</td>\n",
       "      <td>0.0</td>\n",
       "      <td>36</td>\n",
       "      <td>10</td>\n",
       "      <td>221</td>\n",
       "      <td>773</td>\n",
       "      <td>1863</td>\n",
       "    </tr>\n",
       "  </tbody>\n",
       "</table>\n",
       "</div>"
      ],
      "text/plain": [
       "           Id ActivityDate  TotalSteps  TotalDistance  TrackerDistance  \\\n",
       "0  1503960366    4/12/2016       13162           8.50             8.50   \n",
       "1  1503960366    4/13/2016       10735           6.97             6.97   \n",
       "2  1503960366    4/14/2016       10460           6.74             6.74   \n",
       "3  1503960366    4/15/2016        9762           6.28             6.28   \n",
       "4  1503960366    4/16/2016       12669           8.16             8.16   \n",
       "\n",
       "   LoggedActivitiesDistance  VeryActiveDistance  ModeratelyActiveDistance  \\\n",
       "0                       0.0                1.88                      0.55   \n",
       "1                       0.0                1.57                      0.69   \n",
       "2                       0.0                2.44                      0.40   \n",
       "3                       0.0                2.14                      1.26   \n",
       "4                       0.0                2.71                      0.41   \n",
       "\n",
       "   LightActiveDistance  SedentaryActiveDistance  VeryActiveMinutes  \\\n",
       "0                 6.06                      0.0                 25   \n",
       "1                 4.71                      0.0                 21   \n",
       "2                 3.91                      0.0                 30   \n",
       "3                 2.83                      0.0                 29   \n",
       "4                 5.04                      0.0                 36   \n",
       "\n",
       "   FairlyActiveMinutes  LightlyActiveMinutes  SedentaryMinutes  Calories  \n",
       "0                   13                   328               728      1985  \n",
       "1                   19                   217               776      1797  \n",
       "2                   11                   181              1218      1776  \n",
       "3                   34                   209               726      1745  \n",
       "4                   10                   221               773      1863  "
      ]
     },
     "execution_count": 2,
     "metadata": {},
     "output_type": "execute_result"
    },
    {
     "name": "stdout",
     "output_type": "stream",
     "text": [
      "dailyCalories\n"
     ]
    },
    {
     "data": {
      "text/html": [
       "<div>\n",
       "<style scoped>\n",
       "    .dataframe tbody tr th:only-of-type {\n",
       "        vertical-align: middle;\n",
       "    }\n",
       "\n",
       "    .dataframe tbody tr th {\n",
       "        vertical-align: top;\n",
       "    }\n",
       "\n",
       "    .dataframe thead th {\n",
       "        text-align: right;\n",
       "    }\n",
       "</style>\n",
       "<table border=\"1\" class=\"dataframe\">\n",
       "  <thead>\n",
       "    <tr style=\"text-align: right;\">\n",
       "      <th></th>\n",
       "      <th>Id</th>\n",
       "      <th>ActivityDay</th>\n",
       "      <th>Calories</th>\n",
       "    </tr>\n",
       "  </thead>\n",
       "  <tbody>\n",
       "    <tr>\n",
       "      <th>0</th>\n",
       "      <td>1503960366</td>\n",
       "      <td>4/12/2016</td>\n",
       "      <td>1985</td>\n",
       "    </tr>\n",
       "    <tr>\n",
       "      <th>1</th>\n",
       "      <td>1503960366</td>\n",
       "      <td>4/13/2016</td>\n",
       "      <td>1797</td>\n",
       "    </tr>\n",
       "    <tr>\n",
       "      <th>2</th>\n",
       "      <td>1503960366</td>\n",
       "      <td>4/14/2016</td>\n",
       "      <td>1776</td>\n",
       "    </tr>\n",
       "    <tr>\n",
       "      <th>3</th>\n",
       "      <td>1503960366</td>\n",
       "      <td>4/15/2016</td>\n",
       "      <td>1745</td>\n",
       "    </tr>\n",
       "    <tr>\n",
       "      <th>4</th>\n",
       "      <td>1503960366</td>\n",
       "      <td>4/16/2016</td>\n",
       "      <td>1863</td>\n",
       "    </tr>\n",
       "  </tbody>\n",
       "</table>\n",
       "</div>"
      ],
      "text/plain": [
       "           Id ActivityDay  Calories\n",
       "0  1503960366   4/12/2016      1985\n",
       "1  1503960366   4/13/2016      1797\n",
       "2  1503960366   4/14/2016      1776\n",
       "3  1503960366   4/15/2016      1745\n",
       "4  1503960366   4/16/2016      1863"
      ]
     },
     "execution_count": 2,
     "metadata": {},
     "output_type": "execute_result"
    },
    {
     "name": "stdout",
     "output_type": "stream",
     "text": [
      "dailyIntensity\n"
     ]
    },
    {
     "data": {
      "text/html": [
       "<div>\n",
       "<style scoped>\n",
       "    .dataframe tbody tr th:only-of-type {\n",
       "        vertical-align: middle;\n",
       "    }\n",
       "\n",
       "    .dataframe tbody tr th {\n",
       "        vertical-align: top;\n",
       "    }\n",
       "\n",
       "    .dataframe thead th {\n",
       "        text-align: right;\n",
       "    }\n",
       "</style>\n",
       "<table border=\"1\" class=\"dataframe\">\n",
       "  <thead>\n",
       "    <tr style=\"text-align: right;\">\n",
       "      <th></th>\n",
       "      <th>Id</th>\n",
       "      <th>ActivityDay</th>\n",
       "      <th>SedentaryMinutes</th>\n",
       "      <th>LightlyActiveMinutes</th>\n",
       "      <th>FairlyActiveMinutes</th>\n",
       "      <th>VeryActiveMinutes</th>\n",
       "      <th>SedentaryActiveDistance</th>\n",
       "      <th>LightActiveDistance</th>\n",
       "      <th>ModeratelyActiveDistance</th>\n",
       "      <th>VeryActiveDistance</th>\n",
       "    </tr>\n",
       "  </thead>\n",
       "  <tbody>\n",
       "    <tr>\n",
       "      <th>0</th>\n",
       "      <td>1503960366</td>\n",
       "      <td>4/12/2016</td>\n",
       "      <td>728</td>\n",
       "      <td>328</td>\n",
       "      <td>13</td>\n",
       "      <td>25</td>\n",
       "      <td>0.0</td>\n",
       "      <td>6.06</td>\n",
       "      <td>0.55</td>\n",
       "      <td>1.88</td>\n",
       "    </tr>\n",
       "    <tr>\n",
       "      <th>1</th>\n",
       "      <td>1503960366</td>\n",
       "      <td>4/13/2016</td>\n",
       "      <td>776</td>\n",
       "      <td>217</td>\n",
       "      <td>19</td>\n",
       "      <td>21</td>\n",
       "      <td>0.0</td>\n",
       "      <td>4.71</td>\n",
       "      <td>0.69</td>\n",
       "      <td>1.57</td>\n",
       "    </tr>\n",
       "    <tr>\n",
       "      <th>2</th>\n",
       "      <td>1503960366</td>\n",
       "      <td>4/14/2016</td>\n",
       "      <td>1218</td>\n",
       "      <td>181</td>\n",
       "      <td>11</td>\n",
       "      <td>30</td>\n",
       "      <td>0.0</td>\n",
       "      <td>3.91</td>\n",
       "      <td>0.40</td>\n",
       "      <td>2.44</td>\n",
       "    </tr>\n",
       "    <tr>\n",
       "      <th>3</th>\n",
       "      <td>1503960366</td>\n",
       "      <td>4/15/2016</td>\n",
       "      <td>726</td>\n",
       "      <td>209</td>\n",
       "      <td>34</td>\n",
       "      <td>29</td>\n",
       "      <td>0.0</td>\n",
       "      <td>2.83</td>\n",
       "      <td>1.26</td>\n",
       "      <td>2.14</td>\n",
       "    </tr>\n",
       "    <tr>\n",
       "      <th>4</th>\n",
       "      <td>1503960366</td>\n",
       "      <td>4/16/2016</td>\n",
       "      <td>773</td>\n",
       "      <td>221</td>\n",
       "      <td>10</td>\n",
       "      <td>36</td>\n",
       "      <td>0.0</td>\n",
       "      <td>5.04</td>\n",
       "      <td>0.41</td>\n",
       "      <td>2.71</td>\n",
       "    </tr>\n",
       "  </tbody>\n",
       "</table>\n",
       "</div>"
      ],
      "text/plain": [
       "           Id ActivityDay  SedentaryMinutes  LightlyActiveMinutes  \\\n",
       "0  1503960366   4/12/2016               728                   328   \n",
       "1  1503960366   4/13/2016               776                   217   \n",
       "2  1503960366   4/14/2016              1218                   181   \n",
       "3  1503960366   4/15/2016               726                   209   \n",
       "4  1503960366   4/16/2016               773                   221   \n",
       "\n",
       "   FairlyActiveMinutes  VeryActiveMinutes  SedentaryActiveDistance  \\\n",
       "0                   13                 25                      0.0   \n",
       "1                   19                 21                      0.0   \n",
       "2                   11                 30                      0.0   \n",
       "3                   34                 29                      0.0   \n",
       "4                   10                 36                      0.0   \n",
       "\n",
       "   LightActiveDistance  ModeratelyActiveDistance  VeryActiveDistance  \n",
       "0                 6.06                      0.55                1.88  \n",
       "1                 4.71                      0.69                1.57  \n",
       "2                 3.91                      0.40                2.44  \n",
       "3                 2.83                      1.26                2.14  \n",
       "4                 5.04                      0.41                2.71  "
      ]
     },
     "execution_count": 2,
     "metadata": {},
     "output_type": "execute_result"
    },
    {
     "name": "stdout",
     "output_type": "stream",
     "text": [
      "dailyStep\n"
     ]
    },
    {
     "data": {
      "text/html": [
       "<div>\n",
       "<style scoped>\n",
       "    .dataframe tbody tr th:only-of-type {\n",
       "        vertical-align: middle;\n",
       "    }\n",
       "\n",
       "    .dataframe tbody tr th {\n",
       "        vertical-align: top;\n",
       "    }\n",
       "\n",
       "    .dataframe thead th {\n",
       "        text-align: right;\n",
       "    }\n",
       "</style>\n",
       "<table border=\"1\" class=\"dataframe\">\n",
       "  <thead>\n",
       "    <tr style=\"text-align: right;\">\n",
       "      <th></th>\n",
       "      <th>Id</th>\n",
       "      <th>ActivityDay</th>\n",
       "      <th>StepTotal</th>\n",
       "    </tr>\n",
       "  </thead>\n",
       "  <tbody>\n",
       "    <tr>\n",
       "      <th>0</th>\n",
       "      <td>1503960366</td>\n",
       "      <td>4/12/2016</td>\n",
       "      <td>13162</td>\n",
       "    </tr>\n",
       "    <tr>\n",
       "      <th>1</th>\n",
       "      <td>1503960366</td>\n",
       "      <td>4/13/2016</td>\n",
       "      <td>10735</td>\n",
       "    </tr>\n",
       "    <tr>\n",
       "      <th>2</th>\n",
       "      <td>1503960366</td>\n",
       "      <td>4/14/2016</td>\n",
       "      <td>10460</td>\n",
       "    </tr>\n",
       "    <tr>\n",
       "      <th>3</th>\n",
       "      <td>1503960366</td>\n",
       "      <td>4/15/2016</td>\n",
       "      <td>9762</td>\n",
       "    </tr>\n",
       "    <tr>\n",
       "      <th>4</th>\n",
       "      <td>1503960366</td>\n",
       "      <td>4/16/2016</td>\n",
       "      <td>12669</td>\n",
       "    </tr>\n",
       "  </tbody>\n",
       "</table>\n",
       "</div>"
      ],
      "text/plain": [
       "           Id ActivityDay  StepTotal\n",
       "0  1503960366   4/12/2016      13162\n",
       "1  1503960366   4/13/2016      10735\n",
       "2  1503960366   4/14/2016      10460\n",
       "3  1503960366   4/15/2016       9762\n",
       "4  1503960366   4/16/2016      12669"
      ]
     },
     "execution_count": 2,
     "metadata": {},
     "output_type": "execute_result"
    },
    {
     "name": "stdout",
     "output_type": "stream",
     "text": [
      "heartrate_seconds\n"
     ]
    },
    {
     "data": {
      "text/html": [
       "<div>\n",
       "<style scoped>\n",
       "    .dataframe tbody tr th:only-of-type {\n",
       "        vertical-align: middle;\n",
       "    }\n",
       "\n",
       "    .dataframe tbody tr th {\n",
       "        vertical-align: top;\n",
       "    }\n",
       "\n",
       "    .dataframe thead th {\n",
       "        text-align: right;\n",
       "    }\n",
       "</style>\n",
       "<table border=\"1\" class=\"dataframe\">\n",
       "  <thead>\n",
       "    <tr style=\"text-align: right;\">\n",
       "      <th></th>\n",
       "      <th>Id</th>\n",
       "      <th>Time</th>\n",
       "      <th>Value</th>\n",
       "    </tr>\n",
       "  </thead>\n",
       "  <tbody>\n",
       "    <tr>\n",
       "      <th>0</th>\n",
       "      <td>2022484408</td>\n",
       "      <td>4/12/2016 7:21:00 AM</td>\n",
       "      <td>97</td>\n",
       "    </tr>\n",
       "    <tr>\n",
       "      <th>1</th>\n",
       "      <td>2022484408</td>\n",
       "      <td>4/12/2016 7:21:05 AM</td>\n",
       "      <td>102</td>\n",
       "    </tr>\n",
       "    <tr>\n",
       "      <th>2</th>\n",
       "      <td>2022484408</td>\n",
       "      <td>4/12/2016 7:21:10 AM</td>\n",
       "      <td>105</td>\n",
       "    </tr>\n",
       "    <tr>\n",
       "      <th>3</th>\n",
       "      <td>2022484408</td>\n",
       "      <td>4/12/2016 7:21:20 AM</td>\n",
       "      <td>103</td>\n",
       "    </tr>\n",
       "    <tr>\n",
       "      <th>4</th>\n",
       "      <td>2022484408</td>\n",
       "      <td>4/12/2016 7:21:25 AM</td>\n",
       "      <td>101</td>\n",
       "    </tr>\n",
       "  </tbody>\n",
       "</table>\n",
       "</div>"
      ],
      "text/plain": [
       "           Id                  Time  Value\n",
       "0  2022484408  4/12/2016 7:21:00 AM     97\n",
       "1  2022484408  4/12/2016 7:21:05 AM    102\n",
       "2  2022484408  4/12/2016 7:21:10 AM    105\n",
       "3  2022484408  4/12/2016 7:21:20 AM    103\n",
       "4  2022484408  4/12/2016 7:21:25 AM    101"
      ]
     },
     "execution_count": 2,
     "metadata": {},
     "output_type": "execute_result"
    },
    {
     "name": "stdout",
     "output_type": "stream",
     "text": [
      "hourlyCalories\n"
     ]
    },
    {
     "data": {
      "text/html": [
       "<div>\n",
       "<style scoped>\n",
       "    .dataframe tbody tr th:only-of-type {\n",
       "        vertical-align: middle;\n",
       "    }\n",
       "\n",
       "    .dataframe tbody tr th {\n",
       "        vertical-align: top;\n",
       "    }\n",
       "\n",
       "    .dataframe thead th {\n",
       "        text-align: right;\n",
       "    }\n",
       "</style>\n",
       "<table border=\"1\" class=\"dataframe\">\n",
       "  <thead>\n",
       "    <tr style=\"text-align: right;\">\n",
       "      <th></th>\n",
       "      <th>Id</th>\n",
       "      <th>ActivityHour</th>\n",
       "      <th>Calories</th>\n",
       "    </tr>\n",
       "  </thead>\n",
       "  <tbody>\n",
       "    <tr>\n",
       "      <th>0</th>\n",
       "      <td>1503960366</td>\n",
       "      <td>4/12/2016 12:00:00 AM</td>\n",
       "      <td>81</td>\n",
       "    </tr>\n",
       "    <tr>\n",
       "      <th>1</th>\n",
       "      <td>1503960366</td>\n",
       "      <td>4/12/2016 1:00:00 AM</td>\n",
       "      <td>61</td>\n",
       "    </tr>\n",
       "    <tr>\n",
       "      <th>2</th>\n",
       "      <td>1503960366</td>\n",
       "      <td>4/12/2016 2:00:00 AM</td>\n",
       "      <td>59</td>\n",
       "    </tr>\n",
       "    <tr>\n",
       "      <th>3</th>\n",
       "      <td>1503960366</td>\n",
       "      <td>4/12/2016 3:00:00 AM</td>\n",
       "      <td>47</td>\n",
       "    </tr>\n",
       "    <tr>\n",
       "      <th>4</th>\n",
       "      <td>1503960366</td>\n",
       "      <td>4/12/2016 4:00:00 AM</td>\n",
       "      <td>48</td>\n",
       "    </tr>\n",
       "  </tbody>\n",
       "</table>\n",
       "</div>"
      ],
      "text/plain": [
       "           Id           ActivityHour  Calories\n",
       "0  1503960366  4/12/2016 12:00:00 AM        81\n",
       "1  1503960366   4/12/2016 1:00:00 AM        61\n",
       "2  1503960366   4/12/2016 2:00:00 AM        59\n",
       "3  1503960366   4/12/2016 3:00:00 AM        47\n",
       "4  1503960366   4/12/2016 4:00:00 AM        48"
      ]
     },
     "execution_count": 2,
     "metadata": {},
     "output_type": "execute_result"
    },
    {
     "name": "stdout",
     "output_type": "stream",
     "text": [
      "hourlyIntensities\n"
     ]
    },
    {
     "data": {
      "text/html": [
       "<div>\n",
       "<style scoped>\n",
       "    .dataframe tbody tr th:only-of-type {\n",
       "        vertical-align: middle;\n",
       "    }\n",
       "\n",
       "    .dataframe tbody tr th {\n",
       "        vertical-align: top;\n",
       "    }\n",
       "\n",
       "    .dataframe thead th {\n",
       "        text-align: right;\n",
       "    }\n",
       "</style>\n",
       "<table border=\"1\" class=\"dataframe\">\n",
       "  <thead>\n",
       "    <tr style=\"text-align: right;\">\n",
       "      <th></th>\n",
       "      <th>Id</th>\n",
       "      <th>ActivityHour</th>\n",
       "      <th>TotalIntensity</th>\n",
       "      <th>AverageIntensity</th>\n",
       "    </tr>\n",
       "  </thead>\n",
       "  <tbody>\n",
       "    <tr>\n",
       "      <th>0</th>\n",
       "      <td>1503960366</td>\n",
       "      <td>4/12/2016 12:00:00 AM</td>\n",
       "      <td>20</td>\n",
       "      <td>0.333333</td>\n",
       "    </tr>\n",
       "    <tr>\n",
       "      <th>1</th>\n",
       "      <td>1503960366</td>\n",
       "      <td>4/12/2016 1:00:00 AM</td>\n",
       "      <td>8</td>\n",
       "      <td>0.133333</td>\n",
       "    </tr>\n",
       "    <tr>\n",
       "      <th>2</th>\n",
       "      <td>1503960366</td>\n",
       "      <td>4/12/2016 2:00:00 AM</td>\n",
       "      <td>7</td>\n",
       "      <td>0.116667</td>\n",
       "    </tr>\n",
       "    <tr>\n",
       "      <th>3</th>\n",
       "      <td>1503960366</td>\n",
       "      <td>4/12/2016 3:00:00 AM</td>\n",
       "      <td>0</td>\n",
       "      <td>0.000000</td>\n",
       "    </tr>\n",
       "    <tr>\n",
       "      <th>4</th>\n",
       "      <td>1503960366</td>\n",
       "      <td>4/12/2016 4:00:00 AM</td>\n",
       "      <td>0</td>\n",
       "      <td>0.000000</td>\n",
       "    </tr>\n",
       "  </tbody>\n",
       "</table>\n",
       "</div>"
      ],
      "text/plain": [
       "           Id           ActivityHour  TotalIntensity  AverageIntensity\n",
       "0  1503960366  4/12/2016 12:00:00 AM              20          0.333333\n",
       "1  1503960366   4/12/2016 1:00:00 AM               8          0.133333\n",
       "2  1503960366   4/12/2016 2:00:00 AM               7          0.116667\n",
       "3  1503960366   4/12/2016 3:00:00 AM               0          0.000000\n",
       "4  1503960366   4/12/2016 4:00:00 AM               0          0.000000"
      ]
     },
     "execution_count": 2,
     "metadata": {},
     "output_type": "execute_result"
    },
    {
     "name": "stdout",
     "output_type": "stream",
     "text": [
      "hourlySteps\n"
     ]
    },
    {
     "data": {
      "text/html": [
       "<div>\n",
       "<style scoped>\n",
       "    .dataframe tbody tr th:only-of-type {\n",
       "        vertical-align: middle;\n",
       "    }\n",
       "\n",
       "    .dataframe tbody tr th {\n",
       "        vertical-align: top;\n",
       "    }\n",
       "\n",
       "    .dataframe thead th {\n",
       "        text-align: right;\n",
       "    }\n",
       "</style>\n",
       "<table border=\"1\" class=\"dataframe\">\n",
       "  <thead>\n",
       "    <tr style=\"text-align: right;\">\n",
       "      <th></th>\n",
       "      <th>Id</th>\n",
       "      <th>ActivityHour</th>\n",
       "      <th>StepTotal</th>\n",
       "    </tr>\n",
       "  </thead>\n",
       "  <tbody>\n",
       "    <tr>\n",
       "      <th>0</th>\n",
       "      <td>1503960366</td>\n",
       "      <td>4/12/2016 12:00:00 AM</td>\n",
       "      <td>373</td>\n",
       "    </tr>\n",
       "    <tr>\n",
       "      <th>1</th>\n",
       "      <td>1503960366</td>\n",
       "      <td>4/12/2016 1:00:00 AM</td>\n",
       "      <td>160</td>\n",
       "    </tr>\n",
       "    <tr>\n",
       "      <th>2</th>\n",
       "      <td>1503960366</td>\n",
       "      <td>4/12/2016 2:00:00 AM</td>\n",
       "      <td>151</td>\n",
       "    </tr>\n",
       "    <tr>\n",
       "      <th>3</th>\n",
       "      <td>1503960366</td>\n",
       "      <td>4/12/2016 3:00:00 AM</td>\n",
       "      <td>0</td>\n",
       "    </tr>\n",
       "    <tr>\n",
       "      <th>4</th>\n",
       "      <td>1503960366</td>\n",
       "      <td>4/12/2016 4:00:00 AM</td>\n",
       "      <td>0</td>\n",
       "    </tr>\n",
       "  </tbody>\n",
       "</table>\n",
       "</div>"
      ],
      "text/plain": [
       "           Id           ActivityHour  StepTotal\n",
       "0  1503960366  4/12/2016 12:00:00 AM        373\n",
       "1  1503960366   4/12/2016 1:00:00 AM        160\n",
       "2  1503960366   4/12/2016 2:00:00 AM        151\n",
       "3  1503960366   4/12/2016 3:00:00 AM          0\n",
       "4  1503960366   4/12/2016 4:00:00 AM          0"
      ]
     },
     "execution_count": 2,
     "metadata": {},
     "output_type": "execute_result"
    },
    {
     "name": "stdout",
     "output_type": "stream",
     "text": [
      "minuteSleep\n"
     ]
    },
    {
     "data": {
      "text/html": [
       "<div>\n",
       "<style scoped>\n",
       "    .dataframe tbody tr th:only-of-type {\n",
       "        vertical-align: middle;\n",
       "    }\n",
       "\n",
       "    .dataframe tbody tr th {\n",
       "        vertical-align: top;\n",
       "    }\n",
       "\n",
       "    .dataframe thead th {\n",
       "        text-align: right;\n",
       "    }\n",
       "</style>\n",
       "<table border=\"1\" class=\"dataframe\">\n",
       "  <thead>\n",
       "    <tr style=\"text-align: right;\">\n",
       "      <th></th>\n",
       "      <th>Id</th>\n",
       "      <th>date</th>\n",
       "      <th>value</th>\n",
       "      <th>logId</th>\n",
       "    </tr>\n",
       "  </thead>\n",
       "  <tbody>\n",
       "    <tr>\n",
       "      <th>0</th>\n",
       "      <td>1503960366</td>\n",
       "      <td>4/12/2016 2:47:30 AM</td>\n",
       "      <td>3</td>\n",
       "      <td>11380564589</td>\n",
       "    </tr>\n",
       "    <tr>\n",
       "      <th>1</th>\n",
       "      <td>1503960366</td>\n",
       "      <td>4/12/2016 2:48:30 AM</td>\n",
       "      <td>2</td>\n",
       "      <td>11380564589</td>\n",
       "    </tr>\n",
       "    <tr>\n",
       "      <th>2</th>\n",
       "      <td>1503960366</td>\n",
       "      <td>4/12/2016 2:49:30 AM</td>\n",
       "      <td>1</td>\n",
       "      <td>11380564589</td>\n",
       "    </tr>\n",
       "    <tr>\n",
       "      <th>3</th>\n",
       "      <td>1503960366</td>\n",
       "      <td>4/12/2016 2:50:30 AM</td>\n",
       "      <td>1</td>\n",
       "      <td>11380564589</td>\n",
       "    </tr>\n",
       "    <tr>\n",
       "      <th>4</th>\n",
       "      <td>1503960366</td>\n",
       "      <td>4/12/2016 2:51:30 AM</td>\n",
       "      <td>1</td>\n",
       "      <td>11380564589</td>\n",
       "    </tr>\n",
       "  </tbody>\n",
       "</table>\n",
       "</div>"
      ],
      "text/plain": [
       "           Id                  date  value        logId\n",
       "0  1503960366  4/12/2016 2:47:30 AM      3  11380564589\n",
       "1  1503960366  4/12/2016 2:48:30 AM      2  11380564589\n",
       "2  1503960366  4/12/2016 2:49:30 AM      1  11380564589\n",
       "3  1503960366  4/12/2016 2:50:30 AM      1  11380564589\n",
       "4  1503960366  4/12/2016 2:51:30 AM      1  11380564589"
      ]
     },
     "execution_count": 2,
     "metadata": {},
     "output_type": "execute_result"
    },
    {
     "name": "stdout",
     "output_type": "stream",
     "text": [
      "sleepDay\n"
     ]
    },
    {
     "data": {
      "text/html": [
       "<div>\n",
       "<style scoped>\n",
       "    .dataframe tbody tr th:only-of-type {\n",
       "        vertical-align: middle;\n",
       "    }\n",
       "\n",
       "    .dataframe tbody tr th {\n",
       "        vertical-align: top;\n",
       "    }\n",
       "\n",
       "    .dataframe thead th {\n",
       "        text-align: right;\n",
       "    }\n",
       "</style>\n",
       "<table border=\"1\" class=\"dataframe\">\n",
       "  <thead>\n",
       "    <tr style=\"text-align: right;\">\n",
       "      <th></th>\n",
       "      <th>Id</th>\n",
       "      <th>SleepDay</th>\n",
       "      <th>TotalSleepRecords</th>\n",
       "      <th>TotalMinutesAsleep</th>\n",
       "      <th>TotalTimeInBed</th>\n",
       "    </tr>\n",
       "  </thead>\n",
       "  <tbody>\n",
       "    <tr>\n",
       "      <th>0</th>\n",
       "      <td>1503960366</td>\n",
       "      <td>4/12/2016 12:00:00 AM</td>\n",
       "      <td>1</td>\n",
       "      <td>327</td>\n",
       "      <td>346</td>\n",
       "    </tr>\n",
       "    <tr>\n",
       "      <th>1</th>\n",
       "      <td>1503960366</td>\n",
       "      <td>4/13/2016 12:00:00 AM</td>\n",
       "      <td>2</td>\n",
       "      <td>384</td>\n",
       "      <td>407</td>\n",
       "    </tr>\n",
       "    <tr>\n",
       "      <th>2</th>\n",
       "      <td>1503960366</td>\n",
       "      <td>4/15/2016 12:00:00 AM</td>\n",
       "      <td>1</td>\n",
       "      <td>412</td>\n",
       "      <td>442</td>\n",
       "    </tr>\n",
       "    <tr>\n",
       "      <th>3</th>\n",
       "      <td>1503960366</td>\n",
       "      <td>4/16/2016 12:00:00 AM</td>\n",
       "      <td>2</td>\n",
       "      <td>340</td>\n",
       "      <td>367</td>\n",
       "    </tr>\n",
       "    <tr>\n",
       "      <th>4</th>\n",
       "      <td>1503960366</td>\n",
       "      <td>4/17/2016 12:00:00 AM</td>\n",
       "      <td>1</td>\n",
       "      <td>700</td>\n",
       "      <td>712</td>\n",
       "    </tr>\n",
       "  </tbody>\n",
       "</table>\n",
       "</div>"
      ],
      "text/plain": [
       "           Id               SleepDay  TotalSleepRecords  TotalMinutesAsleep  \\\n",
       "0  1503960366  4/12/2016 12:00:00 AM                  1                 327   \n",
       "1  1503960366  4/13/2016 12:00:00 AM                  2                 384   \n",
       "2  1503960366  4/15/2016 12:00:00 AM                  1                 412   \n",
       "3  1503960366  4/16/2016 12:00:00 AM                  2                 340   \n",
       "4  1503960366  4/17/2016 12:00:00 AM                  1                 700   \n",
       "\n",
       "   TotalTimeInBed  \n",
       "0             346  \n",
       "1             407  \n",
       "2             442  \n",
       "3             367  \n",
       "4             712  "
      ]
     },
     "execution_count": 2,
     "metadata": {},
     "output_type": "execute_result"
    },
    {
     "name": "stdout",
     "output_type": "stream",
     "text": [
      "weightLogInfo\n"
     ]
    },
    {
     "data": {
      "text/html": [
       "<div>\n",
       "<style scoped>\n",
       "    .dataframe tbody tr th:only-of-type {\n",
       "        vertical-align: middle;\n",
       "    }\n",
       "\n",
       "    .dataframe tbody tr th {\n",
       "        vertical-align: top;\n",
       "    }\n",
       "\n",
       "    .dataframe thead th {\n",
       "        text-align: right;\n",
       "    }\n",
       "</style>\n",
       "<table border=\"1\" class=\"dataframe\">\n",
       "  <thead>\n",
       "    <tr style=\"text-align: right;\">\n",
       "      <th></th>\n",
       "      <th>Id</th>\n",
       "      <th>Date</th>\n",
       "      <th>WeightKg</th>\n",
       "      <th>WeightPounds</th>\n",
       "      <th>Fat</th>\n",
       "      <th>BMI</th>\n",
       "      <th>IsManualReport</th>\n",
       "      <th>LogId</th>\n",
       "    </tr>\n",
       "  </thead>\n",
       "  <tbody>\n",
       "    <tr>\n",
       "      <th>0</th>\n",
       "      <td>1503960366</td>\n",
       "      <td>5/2/2016 11:59:59 PM</td>\n",
       "      <td>52.599998</td>\n",
       "      <td>115.963147</td>\n",
       "      <td>22.0</td>\n",
       "      <td>22.650000</td>\n",
       "      <td>True</td>\n",
       "      <td>1462233599000</td>\n",
       "    </tr>\n",
       "    <tr>\n",
       "      <th>1</th>\n",
       "      <td>1503960366</td>\n",
       "      <td>5/3/2016 11:59:59 PM</td>\n",
       "      <td>52.599998</td>\n",
       "      <td>115.963147</td>\n",
       "      <td>NaN</td>\n",
       "      <td>22.650000</td>\n",
       "      <td>True</td>\n",
       "      <td>1462319999000</td>\n",
       "    </tr>\n",
       "    <tr>\n",
       "      <th>2</th>\n",
       "      <td>1927972279</td>\n",
       "      <td>4/13/2016 1:08:52 AM</td>\n",
       "      <td>133.500000</td>\n",
       "      <td>294.317120</td>\n",
       "      <td>NaN</td>\n",
       "      <td>47.540001</td>\n",
       "      <td>False</td>\n",
       "      <td>1460509732000</td>\n",
       "    </tr>\n",
       "    <tr>\n",
       "      <th>3</th>\n",
       "      <td>2873212765</td>\n",
       "      <td>4/21/2016 11:59:59 PM</td>\n",
       "      <td>56.700001</td>\n",
       "      <td>125.002104</td>\n",
       "      <td>NaN</td>\n",
       "      <td>21.450001</td>\n",
       "      <td>True</td>\n",
       "      <td>1461283199000</td>\n",
       "    </tr>\n",
       "    <tr>\n",
       "      <th>4</th>\n",
       "      <td>2873212765</td>\n",
       "      <td>5/12/2016 11:59:59 PM</td>\n",
       "      <td>57.299999</td>\n",
       "      <td>126.324875</td>\n",
       "      <td>NaN</td>\n",
       "      <td>21.690001</td>\n",
       "      <td>True</td>\n",
       "      <td>1463097599000</td>\n",
       "    </tr>\n",
       "  </tbody>\n",
       "</table>\n",
       "</div>"
      ],
      "text/plain": [
       "           Id                   Date    WeightKg  WeightPounds   Fat  \\\n",
       "0  1503960366   5/2/2016 11:59:59 PM   52.599998    115.963147  22.0   \n",
       "1  1503960366   5/3/2016 11:59:59 PM   52.599998    115.963147   NaN   \n",
       "2  1927972279   4/13/2016 1:08:52 AM  133.500000    294.317120   NaN   \n",
       "3  2873212765  4/21/2016 11:59:59 PM   56.700001    125.002104   NaN   \n",
       "4  2873212765  5/12/2016 11:59:59 PM   57.299999    126.324875   NaN   \n",
       "\n",
       "         BMI  IsManualReport          LogId  \n",
       "0  22.650000            True  1462233599000  \n",
       "1  22.650000            True  1462319999000  \n",
       "2  47.540001           False  1460509732000  \n",
       "3  21.450001            True  1461283199000  \n",
       "4  21.690001            True  1463097599000  "
      ]
     },
     "execution_count": 2,
     "metadata": {},
     "output_type": "execute_result"
    }
   ],
   "source": [
    "print(\"dailyActivity\")\n",
    "dailyActivity.head()\n",
    "\n",
    "\n",
    "print(\"dailyCalories\")\n",
    "dailyCalories.head()\n",
    "\n",
    "print(\"dailyIntensity\")\n",
    "dailyIntensity.head()\n",
    "\n",
    "print(\"dailyStep\")\n",
    "dailyStep.head()\n",
    "\n",
    "print(\"heartrate_seconds\")\n",
    "heartrate_seconds.head()\n",
    "\n",
    "print(\"hourlyCalories\")\n",
    "hourlyCalories.head()\n",
    "\n",
    "print(\"hourlyIntensities\")\n",
    "hourlyIntensities.head()\n",
    "\n",
    "print(\"hourlySteps\")\n",
    "hourlySteps.head()\n",
    "\n",
    "print(\"minuteSleep\")\n",
    "minuteSleep.head()\n",
    "\n",
    "print(\"sleepDay\")\n",
    "sleepDay.head()\n",
    "\n",
    "print(\"weightLogInfo\")\n",
    "weightLogInfo.head()"
   ]
  },
  {
   "cell_type": "markdown",
   "id": "ce1096b5",
   "metadata": {},
   "source": [
    "## Cleaning data\n",
    "\n",
    "### Check if there are any nulls \n",
    "only weighLogInfo dataset has 1 column with null values: Fat (65) \n",
    "\n",
    "### Verifying numbers of users \n",
    "for each datasets so we which one we can work with"
   ]
  },
  {
   "cell_type": "code",
   "execution_count": 3,
   "id": "1f933b1a",
   "metadata": {},
   "outputs": [
    {
     "name": "stdout",
     "output_type": "stream",
     "text": [
      "--dailyActivity--\n"
     ]
    },
    {
     "data": {
      "text/plain": [
       "Id                          0\n",
       "ActivityDate                0\n",
       "TotalSteps                  0\n",
       "TotalDistance               0\n",
       "TrackerDistance             0\n",
       "LoggedActivitiesDistance    0\n",
       "VeryActiveDistance          0\n",
       "ModeratelyActiveDistance    0\n",
       "LightActiveDistance         0\n",
       "SedentaryActiveDistance     0\n",
       "VeryActiveMinutes           0\n",
       "FairlyActiveMinutes         0\n",
       "LightlyActiveMinutes        0\n",
       "SedentaryMinutes            0\n",
       "Calories                    0\n",
       "dtype: int64"
      ]
     },
     "execution_count": 3,
     "metadata": {},
     "output_type": "execute_result"
    },
    {
     "data": {
      "text/plain": [
       "33"
      ]
     },
     "execution_count": 3,
     "metadata": {},
     "output_type": "execute_result"
    },
    {
     "name": "stdout",
     "output_type": "stream",
     "text": [
      "--dailyCalories--\n"
     ]
    },
    {
     "data": {
      "text/plain": [
       "Id             0\n",
       "ActivityDay    0\n",
       "Calories       0\n",
       "dtype: int64"
      ]
     },
     "execution_count": 3,
     "metadata": {},
     "output_type": "execute_result"
    },
    {
     "data": {
      "text/plain": [
       "33"
      ]
     },
     "execution_count": 3,
     "metadata": {},
     "output_type": "execute_result"
    },
    {
     "name": "stdout",
     "output_type": "stream",
     "text": [
      "--dailyIntensity--\n"
     ]
    },
    {
     "data": {
      "text/plain": [
       "Id                          0\n",
       "ActivityDay                 0\n",
       "SedentaryMinutes            0\n",
       "LightlyActiveMinutes        0\n",
       "FairlyActiveMinutes         0\n",
       "VeryActiveMinutes           0\n",
       "SedentaryActiveDistance     0\n",
       "LightActiveDistance         0\n",
       "ModeratelyActiveDistance    0\n",
       "VeryActiveDistance          0\n",
       "dtype: int64"
      ]
     },
     "execution_count": 3,
     "metadata": {},
     "output_type": "execute_result"
    },
    {
     "data": {
      "text/plain": [
       "33"
      ]
     },
     "execution_count": 3,
     "metadata": {},
     "output_type": "execute_result"
    },
    {
     "name": "stdout",
     "output_type": "stream",
     "text": [
      "--dailyStep--\n"
     ]
    },
    {
     "data": {
      "text/plain": [
       "Id             0\n",
       "ActivityDay    0\n",
       "StepTotal      0\n",
       "dtype: int64"
      ]
     },
     "execution_count": 3,
     "metadata": {},
     "output_type": "execute_result"
    },
    {
     "data": {
      "text/plain": [
       "33"
      ]
     },
     "execution_count": 3,
     "metadata": {},
     "output_type": "execute_result"
    },
    {
     "name": "stdout",
     "output_type": "stream",
     "text": [
      "--heartrate_seconds--\n"
     ]
    },
    {
     "data": {
      "text/plain": [
       "Id       0\n",
       "Time     0\n",
       "Value    0\n",
       "dtype: int64"
      ]
     },
     "execution_count": 3,
     "metadata": {},
     "output_type": "execute_result"
    },
    {
     "data": {
      "text/plain": [
       "14"
      ]
     },
     "execution_count": 3,
     "metadata": {},
     "output_type": "execute_result"
    },
    {
     "name": "stdout",
     "output_type": "stream",
     "text": [
      "--hourlyCalories--\n"
     ]
    },
    {
     "data": {
      "text/plain": [
       "Id              0\n",
       "ActivityHour    0\n",
       "Calories        0\n",
       "dtype: int64"
      ]
     },
     "execution_count": 3,
     "metadata": {},
     "output_type": "execute_result"
    },
    {
     "data": {
      "text/plain": [
       "33"
      ]
     },
     "execution_count": 3,
     "metadata": {},
     "output_type": "execute_result"
    },
    {
     "name": "stdout",
     "output_type": "stream",
     "text": [
      "--hourlyIntensities--\n"
     ]
    },
    {
     "data": {
      "text/plain": [
       "Id                  0\n",
       "ActivityHour        0\n",
       "TotalIntensity      0\n",
       "AverageIntensity    0\n",
       "dtype: int64"
      ]
     },
     "execution_count": 3,
     "metadata": {},
     "output_type": "execute_result"
    },
    {
     "data": {
      "text/plain": [
       "33"
      ]
     },
     "execution_count": 3,
     "metadata": {},
     "output_type": "execute_result"
    },
    {
     "name": "stdout",
     "output_type": "stream",
     "text": [
      "--hourlySteps--\n"
     ]
    },
    {
     "data": {
      "text/plain": [
       "Id              0\n",
       "ActivityHour    0\n",
       "StepTotal       0\n",
       "dtype: int64"
      ]
     },
     "execution_count": 3,
     "metadata": {},
     "output_type": "execute_result"
    },
    {
     "data": {
      "text/plain": [
       "33"
      ]
     },
     "execution_count": 3,
     "metadata": {},
     "output_type": "execute_result"
    },
    {
     "name": "stdout",
     "output_type": "stream",
     "text": [
      "--minuteSleep--\n"
     ]
    },
    {
     "data": {
      "text/plain": [
       "Id       0\n",
       "date     0\n",
       "value    0\n",
       "logId    0\n",
       "dtype: int64"
      ]
     },
     "execution_count": 3,
     "metadata": {},
     "output_type": "execute_result"
    },
    {
     "data": {
      "text/plain": [
       "24"
      ]
     },
     "execution_count": 3,
     "metadata": {},
     "output_type": "execute_result"
    },
    {
     "name": "stdout",
     "output_type": "stream",
     "text": [
      "--sleepDay--\n"
     ]
    },
    {
     "data": {
      "text/plain": [
       "Id                    0\n",
       "SleepDay              0\n",
       "TotalSleepRecords     0\n",
       "TotalMinutesAsleep    0\n",
       "TotalTimeInBed        0\n",
       "dtype: int64"
      ]
     },
     "execution_count": 3,
     "metadata": {},
     "output_type": "execute_result"
    },
    {
     "data": {
      "text/plain": [
       "24"
      ]
     },
     "execution_count": 3,
     "metadata": {},
     "output_type": "execute_result"
    },
    {
     "name": "stdout",
     "output_type": "stream",
     "text": [
      "--weightLogInfo--\n"
     ]
    },
    {
     "data": {
      "text/plain": [
       "Id                 0\n",
       "Date               0\n",
       "WeightKg           0\n",
       "WeightPounds       0\n",
       "Fat               65\n",
       "BMI                0\n",
       "IsManualReport     0\n",
       "LogId              0\n",
       "dtype: int64"
      ]
     },
     "execution_count": 3,
     "metadata": {},
     "output_type": "execute_result"
    },
    {
     "data": {
      "text/plain": [
       "8"
      ]
     },
     "execution_count": 3,
     "metadata": {},
     "output_type": "execute_result"
    }
   ],
   "source": [
    "print(\"--dailyActivity--\")\n",
    "dailyActivity.isna().sum()\n",
    "dailyActivity['Id'].nunique()\n",
    "\n",
    "\n",
    "print(\"--dailyCalories--\")\n",
    "dailyCalories.isna().sum()\n",
    "dailyCalories['Id'].nunique()\n",
    "\n",
    "print(\"--dailyIntensity--\")\n",
    "dailyIntensity.isna().sum()\n",
    "dailyIntensity['Id'].nunique()\n",
    "\n",
    "print(\"--dailyStep--\")\n",
    "dailyStep.isna().sum()\n",
    "dailyStep['Id'].nunique()\n",
    "\n",
    "print(\"--heartrate_seconds--\")\n",
    "heartrate_seconds.isna().sum()\n",
    "heartrate_seconds['Id'].nunique()\n",
    "\n",
    "print(\"--hourlyCalories--\")\n",
    "hourlyCalories.isna().sum()\n",
    "hourlyCalories['Id'].nunique()\n",
    "\n",
    "print(\"--hourlyIntensities--\")\n",
    "hourlyIntensities.isna().sum()\n",
    "hourlyIntensities['Id'].nunique()\n",
    "\n",
    "print(\"--hourlySteps--\")\n",
    "hourlySteps.isna().sum()\n",
    "hourlySteps['Id'].nunique()\n",
    "\n",
    "print(\"--minuteSleep--\")\n",
    "minuteSleep.isna().sum()\n",
    "minuteSleep['Id'].nunique()\n",
    "\n",
    "print(\"--sleepDay--\")\n",
    "sleepDay.isna().sum()\n",
    "sleepDay['Id'].nunique()\n",
    "\n",
    "print(\"--weightLogInfo--\")\n",
    "weightLogInfo.isna().sum()\n",
    "weightLogInfo['Id'].nunique()"
   ]
  },
  {
   "cell_type": "markdown",
   "id": "97058b39",
   "metadata": {},
   "source": []
  },
  {
   "cell_type": "markdown",
   "id": "9b4a7215",
   "metadata": {},
   "source": [
    "### Check for duplicates"
   ]
  },
  {
   "cell_type": "code",
   "execution_count": 4,
   "id": "599627fe",
   "metadata": {
    "scrolled": true
   },
   "outputs": [
    {
     "name": "stdout",
     "output_type": "stream",
     "text": [
      "Duplicate rows in dailyActivity\n",
      "Empty DataFrame\n",
      "Columns: [Id, ActivityDate, TotalSteps, TotalDistance, TrackerDistance, LoggedActivitiesDistance, VeryActiveDistance, ModeratelyActiveDistance, LightActiveDistance, SedentaryActiveDistance, VeryActiveMinutes, FairlyActiveMinutes, LightlyActiveMinutes, SedentaryMinutes, Calories]\n",
      "Index: []\n",
      "\n",
      "\n",
      "Duplicate rows in dailyCalories\n",
      "Empty DataFrame\n",
      "Columns: [Id, ActivityDay, Calories]\n",
      "Index: []\n",
      "\n",
      "\n",
      "Duplicate rows in dailyIntensity\n",
      "Empty DataFrame\n",
      "Columns: [Id, ActivityDay, SedentaryMinutes, LightlyActiveMinutes, FairlyActiveMinutes, VeryActiveMinutes, SedentaryActiveDistance, LightActiveDistance, ModeratelyActiveDistance, VeryActiveDistance]\n",
      "Index: []\n",
      "\n",
      "\n",
      "Duplicate rows in dailyStep\n",
      "Empty DataFrame\n",
      "Columns: [Id, ActivityDay, StepTotal]\n",
      "Index: []\n",
      "\n",
      "\n",
      "Duplicate rows in heartrate_seconds\n",
      "Empty DataFrame\n",
      "Columns: [Id, Time, Value]\n",
      "Index: []\n",
      "\n",
      "\n",
      "Duplicate rows in hourlyCalories\n",
      "Empty DataFrame\n",
      "Columns: [Id, ActivityHour, Calories]\n",
      "Index: []\n",
      "\n",
      "\n",
      "Duplicate rows in hourlyIntensities\n",
      "Empty DataFrame\n",
      "Columns: [Id, ActivityHour, TotalIntensity, AverageIntensity]\n",
      "Index: []\n",
      "\n",
      "\n",
      "Duplicate rows in hourlySteps\n",
      "Empty DataFrame\n",
      "Columns: [Id, ActivityHour, StepTotal]\n",
      "Index: []\n",
      "\n",
      "\n",
      "Duplicate rows in minuteSleep\n",
      "                Id                 date  value        logId\n",
      "99770   4702921684  5/6/2016 9:10:00 PM      3  11573168523\n",
      "99771   4702921684  5/6/2016 9:11:00 PM      3  11573168523\n",
      "99772   4702921684  5/6/2016 9:12:00 PM      2  11573168523\n",
      "99773   4702921684  5/6/2016 9:13:00 PM      1  11573168523\n",
      "99774   4702921684  5/6/2016 9:14:00 PM      1  11573168523\n",
      "...            ...                  ...    ...          ...\n",
      "100308  4702921684  5/7/2016 6:08:00 AM      2  11573168523\n",
      "100309  4702921684  5/7/2016 6:09:00 AM      1  11573168523\n",
      "100310  4702921684  5/7/2016 6:10:00 AM      2  11573168523\n",
      "100311  4702921684  5/7/2016 6:11:00 AM      1  11573168523\n",
      "100312  4702921684  5/7/2016 6:12:00 AM      1  11573168523\n",
      "\n",
      "[543 rows x 4 columns]\n",
      "\n",
      "\n",
      "Duplicate rows in sleepDay\n",
      "             Id               SleepDay  TotalSleepRecords  TotalMinutesAsleep  \\\n",
      "161  4388161847   5/5/2016 12:00:00 AM                  1                 471   \n",
      "223  4702921684   5/7/2016 12:00:00 AM                  1                 520   \n",
      "380  8378563200  4/25/2016 12:00:00 AM                  1                 388   \n",
      "\n",
      "     TotalTimeInBed  \n",
      "161             495  \n",
      "223             543  \n",
      "380             402  \n",
      "\n",
      "\n",
      "Duplicate rows in weightLogInfo\n",
      "Empty DataFrame\n",
      "Columns: [Id, Date, WeightKg, WeightPounds, Fat, BMI, IsManualReport, LogId]\n",
      "Index: []\n",
      "\n",
      "\n"
     ]
    }
   ],
   "source": [
    "dataframes_to_check = [\n",
    "    (\"dailyActivity\", dailyActivity),\n",
    "    (\"dailyCalories\", dailyCalories),\n",
    "    (\"dailyIntensity\", dailyIntensity),\n",
    "    (\"dailyStep\", dailyStep),\n",
    "    (\"heartrate_seconds\", heartrate_seconds),\n",
    "    (\"hourlyCalories\", hourlyCalories),\n",
    "    (\"hourlyIntensities\", hourlyIntensities),\n",
    "    (\"hourlySteps\", hourlySteps),\n",
    "    (\"minuteSleep\", minuteSleep),\n",
    "    (\"sleepDay\", sleepDay),\n",
    "    (\"weightLogInfo\", weightLogInfo)\n",
    "]\n",
    "\n",
    "for df_name, df in dataframes_to_check:\n",
    "    duplicate_df = df[df.duplicated()]\n",
    "    print(\"Duplicate rows in\", df_name)\n",
    "    print(duplicate_df)\n",
    "    print(\"\\n\")"
   ]
  },
  {
   "cell_type": "markdown",
   "id": "c17196bc",
   "metadata": {},
   "source": [
    "## Analyzing data\n",
    "\n",
    "### After investigating the datasets, here are the questions I want to ask:\n",
    "1. What is the average steps?\n",
    "2. What is the average calories spent\n",
    "3. What is the most prominent type of activity: very active, moderate, light, sedentary\n",
    "4. How does heart rate look like throughout the day in average?\n",
    "5. What is the average heart rate in days of the week?\n",
    "6. Is there a relationship between walking and sleep?\n",
    "7. Is there a relationship between calories spent and sleep?"
   ]
  },
  {
   "cell_type": "markdown",
   "id": "6439b738",
   "metadata": {},
   "source": [
    "Since some of the data in the datasets are overlapped, here are the datasets I chose to use:\n",
    "- DailyAcitvity\n",
    "- Heartrate\n",
    "- HourlyCalories\n",
    "- SleepDay"
   ]
  },
  {
   "cell_type": "markdown",
   "id": "adc467b2",
   "metadata": {},
   "source": [
    "#### 1. What is the average step? "
   ]
  },
  {
   "cell_type": "code",
   "execution_count": 5,
   "id": "ee44bc72",
   "metadata": {},
   "outputs": [
    {
     "data": {
      "text/plain": [
       "7638.0"
      ]
     },
     "execution_count": 5,
     "metadata": {},
     "output_type": "execute_result"
    }
   ],
   "source": [
    "round(dailyActivity[\"TotalSteps\"].mean(),0)"
   ]
  },
  {
   "cell_type": "markdown",
   "id": "b3c28d61",
   "metadata": {},
   "source": [
    "#### 2. What is the average calories spent?"
   ]
  },
  {
   "cell_type": "code",
   "execution_count": 6,
   "id": "7d534346",
   "metadata": {},
   "outputs": [
    {
     "data": {
      "text/plain": [
       "2304.0"
      ]
     },
     "execution_count": 6,
     "metadata": {},
     "output_type": "execute_result"
    }
   ],
   "source": [
    "round(dailyActivity[\"Calories\"].mean(),0)"
   ]
  },
  {
   "cell_type": "markdown",
   "id": "cd1c771d",
   "metadata": {},
   "source": [
    "#### 3. What is the most prominent level of active? \n",
    "There are 4 types of active, ranging from least to most: sedentary, lightly active, moderately active, very active"
   ]
  },
  {
   "cell_type": "code",
   "execution_count": 7,
   "id": "a29d306f",
   "metadata": {},
   "outputs": [
    {
     "name": "stdout",
     "output_type": "stream",
     "text": [
      "991.2106382978724\n"
     ]
    }
   ],
   "source": [
    "avg_sedentary_min = dailyActivity[\"SedentaryMinutes\"].mean()\n",
    "avg_lightly_min = dailyActivity[\"LightlyActiveMinutes\"].mean()\n",
    "avg_fairly_min = dailyActivity[\"FairlyActiveMinutes\"].mean()\n",
    "avg_very_min = dailyActivity[\"VeryActiveMinutes\"].mean()\n",
    "\n",
    "print(avg_sedentary_min)"
   ]
  },
  {
   "cell_type": "code",
   "execution_count": 8,
   "id": "1664e21c",
   "metadata": {},
   "outputs": [
    {
     "name": "stdout",
     "output_type": "stream",
     "text": [
      "                      average_min\n",
      "active_level                     \n",
      "SedentaryMinutes       991.210638\n",
      "LightlyActiveMinutes   192.812766\n",
      "FairlyActiveMinutes    192.812766\n",
      "VeryActiveMinutes       21.164894\n"
     ]
    }
   ],
   "source": [
    "active_level = {\"active_level\":[\"SedentaryMinutes\",\"LightlyActiveMinutes\",\"FairlyActiveMinutes\",\"VeryActiveMinutes\"],\n",
    "                \"average_min\":[avg_sedentary_min,avg_lightly_min,avg_lightly_min,avg_very_min]}\n",
    "\n",
    "active_level_data = {\n",
    "    \"active_level\": [\"SedentaryMinutes\", \"LightlyActiveMinutes\", \"FairlyActiveMinutes\", \"VeryActiveMinutes\"],\n",
    "    \"average_min\": [avg_sedentary_min, avg_lightly_min, avg_lightly_min, avg_very_min]\n",
    "}\n",
    "\n",
    "active_level_df = pd.DataFrame(active_level_data)\n",
    "active_level_df = active_level_df.set_index(\"active_level\")  # Set \"active_level\" as the index\n",
    "print(active_level_df)"
   ]
  },
  {
   "cell_type": "code",
   "execution_count": 9,
   "id": "9c9bd36e",
   "metadata": {},
   "outputs": [
    {
     "data": {
      "text/plain": [
       "<AxesSubplot:title={'center':'Average Active Levels Minutes'}, xlabel='active_level'>"
      ]
     },
     "execution_count": 9,
     "metadata": {},
     "output_type": "execute_result"
    },
    {
     "data": {
      "image/png": "[encoded data removed]",
      "text/plain": [
       "<Figure size 432x288 with 1 Axes>"
      ]
     },
     "metadata": {
      "needs_background": "light"
     },
     "output_type": "display_data"
    }
   ],
   "source": [
    "active_level_df.plot(kind=\"bar\",title = \"Average Active Levels Minutes\")\n"
   ]
  },
  {
   "cell_type": "markdown",
   "id": "3e5d26ec",
   "metadata": {},
   "source": [
    "This is quite intuitive as very active minutes are usually spent for doing exercises, while sedentary minutes and light active minutes are usually sitting walking"
   ]
  },
  {
   "cell_type": "markdown",
   "id": "3a37f40c",
   "metadata": {},
   "source": [
    "#### 4. How does heart rate look like throughout the day in average?"
   ]
  },
  {
   "cell_type": "code",
   "execution_count": 12,
   "id": "a0357227",
   "metadata": {
    "scrolled": false
   },
   "outputs": [
    {
     "data": {
      "text/html": [
       "<div>\n",
       "<style scoped>\n",
       "    .dataframe tbody tr th:only-of-type {\n",
       "        vertical-align: middle;\n",
       "    }\n",
       "\n",
       "    .dataframe tbody tr th {\n",
       "        vertical-align: top;\n",
       "    }\n",
       "\n",
       "    .dataframe thead th {\n",
       "        text-align: right;\n",
       "    }\n",
       "</style>\n",
       "<table border=\"1\" class=\"dataframe\">\n",
       "  <thead>\n",
       "    <tr style=\"text-align: right;\">\n",
       "      <th></th>\n",
       "      <th>Id</th>\n",
       "      <th>Time</th>\n",
       "      <th>Value</th>\n",
       "      <th>Date</th>\n",
       "      <th>Hour</th>\n",
       "    </tr>\n",
       "  </thead>\n",
       "  <tbody>\n",
       "    <tr>\n",
       "      <th>0</th>\n",
       "      <td>2022484408</td>\n",
       "      <td>2016-04-12 07:21:00</td>\n",
       "      <td>97</td>\n",
       "      <td>4/12/2016</td>\n",
       "      <td>7</td>\n",
       "    </tr>\n",
       "    <tr>\n",
       "      <th>1</th>\n",
       "      <td>2022484408</td>\n",
       "      <td>2016-04-12 07:21:05</td>\n",
       "      <td>102</td>\n",
       "      <td>4/12/2016</td>\n",
       "      <td>7</td>\n",
       "    </tr>\n",
       "    <tr>\n",
       "      <th>2</th>\n",
       "      <td>2022484408</td>\n",
       "      <td>2016-04-12 07:21:10</td>\n",
       "      <td>105</td>\n",
       "      <td>4/12/2016</td>\n",
       "      <td>7</td>\n",
       "    </tr>\n",
       "    <tr>\n",
       "      <th>3</th>\n",
       "      <td>2022484408</td>\n",
       "      <td>2016-04-12 07:21:20</td>\n",
       "      <td>103</td>\n",
       "      <td>4/12/2016</td>\n",
       "      <td>7</td>\n",
       "    </tr>\n",
       "    <tr>\n",
       "      <th>4</th>\n",
       "      <td>2022484408</td>\n",
       "      <td>2016-04-12 07:21:25</td>\n",
       "      <td>101</td>\n",
       "      <td>4/12/2016</td>\n",
       "      <td>7</td>\n",
       "    </tr>\n",
       "  </tbody>\n",
       "</table>\n",
       "</div>"
      ],
      "text/plain": [
       "           Id                Time  Value        Date  Hour\n",
       "0  2022484408 2016-04-12 07:21:00     97  4/12/2016      7\n",
       "1  2022484408 2016-04-12 07:21:05    102  4/12/2016      7\n",
       "2  2022484408 2016-04-12 07:21:10    105  4/12/2016      7\n",
       "3  2022484408 2016-04-12 07:21:20    103  4/12/2016      7\n",
       "4  2022484408 2016-04-12 07:21:25    101  4/12/2016      7"
      ]
     },
     "execution_count": 12,
     "metadata": {},
     "output_type": "execute_result"
    },
    {
     "name": "stdout",
     "output_type": "stream",
     "text": [
      "                 Id                Time  Value        Date  Hour\n",
      "0        2022484408 2016-04-12 07:21:00     97  4/12/2016      7\n",
      "1        2022484408 2016-04-12 07:21:05    102  4/12/2016      7\n",
      "2        2022484408 2016-04-12 07:21:10    105  4/12/2016      7\n",
      "3        2022484408 2016-04-12 07:21:20    103  4/12/2016      7\n",
      "4        2022484408 2016-04-12 07:21:25    101  4/12/2016      7\n",
      "...             ...                 ...    ...         ...   ...\n",
      "2483653  8877689391 2016-05-12 14:43:53     57  5/12/2016     14\n",
      "2483654  8877689391 2016-05-12 14:43:58     56  5/12/2016     14\n",
      "2483655  8877689391 2016-05-12 14:44:03     55  5/12/2016     14\n",
      "2483656  8877689391 2016-05-12 14:44:18     55  5/12/2016     14\n",
      "2483657  8877689391 2016-05-12 14:44:28     56  5/12/2016     14\n",
      "\n",
      "[2483658 rows x 5 columns]\n",
      "    Hour      Value\n",
      "0      0  66.723642\n",
      "1      1  65.642436\n",
      "2      2  63.566506\n",
      "3      3  61.143456\n",
      "4      4  60.231779\n",
      "5      5  63.178442\n",
      "6      6  72.910595\n",
      "7      7  75.196996\n",
      "8      8  76.951884\n",
      "9      9  80.703932\n",
      "10    10  80.116789\n",
      "11    11  79.147566\n",
      "12    12  83.566121\n",
      "13    13  81.041155\n",
      "14    14  82.090328\n",
      "15    15  79.366156\n",
      "16    16  83.914978\n",
      "17    17  84.810547\n",
      "18    18  86.128509\n",
      "19    19  82.797117\n",
      "20    20  78.967916\n",
      "21    21  75.127449\n",
      "22    22  72.228438\n",
      "23    23  69.272406\n"
     ]
    },
    {
     "data": {
      "text/plain": [
       "<AxesSubplot:title={'center':'Average Heart Rate Throughout a Day'}, xlabel='Hour', ylabel='Average Heart Rate'>"
      ]
     },
     "execution_count": 12,
     "metadata": {},
     "output_type": "execute_result"
    },
    {
     "data": {
      "image/png": "[encoded data removed]",
      "text/plain": [
       "<Figure size 432x288 with 1 Axes>"
      ]
     },
     "metadata": {
      "needs_background": "light"
     },
     "output_type": "display_data"
    }
   ],
   "source": [
    "#Create a date column\n",
    "\n",
    "# heartrate_seconds['Date'] = heartrate_seconds['Time'].astype(str).str[:10]\n",
    "# heartrate_seconds['Date'] = pd.to_datetime(heartrate_seconds['Date'])\n",
    "\n",
    "#Convert the 'Time' column to datetime objects\n",
    "heartrate_seconds['Time'] = pd.to_datetime(heartrate_seconds['Time'])\n",
    "\n",
    "# Extract the hour from the 'Time' column and create a new 'Hour' column\n",
    "heartrate_seconds['Hour'] = heartrate_seconds['Time'].dt.hour\n",
    "\n",
    "#check the dtype and Hour column\n",
    "heartrate_seconds.head()\n",
    "print(heartrate_seconds)\n",
    "\n",
    "# Group by 'Hour' and calculate the average 'Value' for each group\n",
    "avg_heart_rate_by_hour = heartrate_seconds.groupby('Hour')['Value'].mean().reset_index()\n",
    "\n",
    "print(avg_heart_rate_by_hour)\n",
    "\n",
    "avg_heart_rate_by_hour.plot(kind=\"line\", x = 'Hour', y='Value', title = 'Average Heart Rate Throughout a Day', ylabel= 'Average Heart Rate')\n",
    "\n"
   ]
  },
  {
   "cell_type": "markdown",
   "id": "044f001b",
   "metadata": {},
   "source": [
    "#### 5. What is the average heart rate in days of the week?"
   ]
  },
  {
   "cell_type": "code",
   "execution_count": null,
   "id": "a85a9c66",
   "metadata": {},
   "outputs": [],
   "source": [
    "#Create a date column\n",
    "heartrate_seconds['Date'] = heartrate_seconds['Time'].astype(str).str[:10]\n",
    "heartrate_seconds['Date'] = pd.to_datetime(heartrate_seconds['Date'])\n",
    "\n",
    "#create Weekday column based on Date column\n",
    "heartrate_seconds['WeekDay'] = heartrate_seconds['Date'].dt.day_name()\n",
    "\n",
    "#create a function to return a number for a weekday\n",
    "def get_weekday_NBR(weekday):\n",
    "    if weekday == \"Sunday\":\n",
    "        return 1\n",
    "    elif weekday == \"Monday\":\n",
    "        return 2\n",
    "    elif weekday == \"Tuesday\":\n",
    "        return 3\n",
    "    elif weekday == \"Wednesday\":\n",
    "        return 4\n",
    "    elif weekday == \"Thursday\":\n",
    "        return 5\n",
    "    elif weekday == \"Friday\":\n",
    "        return 6\n",
    "    else:\n",
    "        return 7\n",
    "    \n",
    "#apply function to get weekday number\n",
    "heartrate_seconds['WeekDayNBR'] = heartrate_seconds['WeekDay'].apply(get_weekday_NBR)\n",
    "\n",
    "#check\n",
    "print(heartrate_seconds)\n",
    "\n",
    "\n",
    "#calculate average heart rate each week day group by ID\n",
    "avg_heart_rate_by_weekday = heartrate_seconds.groupby(['WeekDay', 'WeekDayNBR'])['Value'].mean().reset_index()\n",
    "\n",
    "#set index to WeekDayNBR\n",
    "avg_heart_rate_by_weekday = avg_heart_rate_by_weekday.set_index('WeekDayNBR').sort_index(ascending = True)\n",
    "\n",
    "#check\n",
    "print(avg_heart_rate_by_weekday)\n",
    "\n",
    "#bar chart for average heart rate in week days\n",
    "avg_heart_rate_by_weekday.plot(kind=\"bar\", x = 'WeekDay', y='Value', title = 'Average Heart Rate Through a Week', ylabel= 'Average Heart Rate')\n",
    "\n",
    "\n"
   ]
  },
  {
   "cell_type": "markdown",
   "id": "c7f77d65",
   "metadata": {},
   "source": [
    "#### 6. Is there a correlation between walking and sleep?\n",
    "I will use StepTotal in dailyStep df as the metric indicating walking distance, merged with SleepDay df"
   ]
  },
  {
   "cell_type": "code",
   "execution_count": null,
   "id": "55d1d631",
   "metadata": {},
   "outputs": [],
   "source": [
    "# Convert the 'SleepDay' & 'ActivityDay' to datetime data type\n",
    "sleepDay['SleepDay'] = pd.to_datetime(sleepDay['SleepDay'])\n",
    "dailyStep['ActivityDay'] = pd.to_datetime(dailyStep['ActivityDay'])\n",
    "\n",
    "#left join dailyStep and sleepDay on Id & Date\n",
    "dailyStep_sleepDay_merge = dailyStep.merge(sleepDay, how='left', left_on=['Id', 'ActivityDay'], right_on=['Id', 'SleepDay'])\n",
    "\n",
    "dailyStep_sleepDay_merge.head()\n",
    "\n",
    "\n"
   ]
  },
  {
   "cell_type": "code",
   "execution_count": null,
   "id": "6cd27254",
   "metadata": {},
   "outputs": [],
   "source": [
    "#make a scatterplot to check for correlation between StepTotal and TotalMinutesAsleep \n",
    "dailyStep_sleepDay_merge.plot(kind = \"scatter\", x = 'StepTotal', y = 'TotalMinutesAsleep')"
   ]
  },
  {
   "cell_type": "markdown",
   "id": "a0f4039a",
   "metadata": {},
   "source": [
    "The scatter plot shows that there is no correlation between total steps and minutes asleep"
   ]
  },
  {
   "cell_type": "markdown",
   "id": "49565737",
   "metadata": {},
   "source": [
    "#### 7. Is there a correlation between calories and sleep?"
   ]
  },
  {
   "cell_type": "code",
   "execution_count": null,
   "id": "6ead7425",
   "metadata": {},
   "outputs": [],
   "source": [
    "# Convert the calories['ActivityDay'] to datetime data type\n",
    "dailyCalories['ActivityDay'] = pd.to_datetime(dailyCalories['ActivityDay'])\n",
    "\n",
    "#left join ActivityDay and sleepDay on Id & Date\n",
    "dailyCalories_sleepDay_merge = dailyCalories.merge(sleepDay, how='left', left_on=['Id', 'ActivityDay'], right_on=['Id', 'SleepDay'])\n",
    "\n",
    "dailyCalories_sleepDay_merge.head()"
   ]
  },
  {
   "cell_type": "code",
   "execution_count": null,
   "id": "3494c886",
   "metadata": {},
   "outputs": [],
   "source": [
    "#make a scatterplot to check for correlation between Calories and TotalMinutesAsleep \n",
    "dailyCalories_sleepDay_merge.plot(kind = \"scatter\", x = 'Calories', y = 'TotalMinutesAsleep')"
   ]
  },
  {
   "cell_type": "code",
   "execution_count": null,
   "id": "6e1c0a3e",
   "metadata": {},
   "outputs": [],
   "source": [
    "The scatter plot shows that there is no correlation between calories spent and minutes asleep"
   ]
  },
  {
   "cell_type": "markdown",
   "id": "5e06254c",
   "metadata": {},
   "source": [
    "## Conclusion (Act phase)"
   ]
  },
  {
   "cell_type": "markdown",
   "id": "f37d7940",
   "metadata": {},
   "source": [
    "### Insights and recommendations:"
   ]
  },
  {
   "cell_type": "markdown",
   "id": "afe1f541",
   "metadata": {},
   "source": [
    "#### 1. Heart rate is higher on Saturday and Monday\n",
    "--> Recommendation: push notifications on those 2 days for people to do 5 minutes breathing practice to keep heart rate in check\n",
    "\n",
    "#### 2. Heart rate is highest between 3PM and 8PM: this might be due to stress from work or due to the most common time that people exercise\n",
    "--> Recommendation: push notification reminding users to workout (to hit fitness target) or to practice breathing/mindfulness\n",
    "\n",
    "#### 3. Users' average daily steps is around 7,000: \n",
    "##### for general fitness, most adults should aim for 10,000 steps per day, with fewer than 5,000 steps being a sign of a sedentary lifestyle.  \n",
    "--> Set up reward system when a users hit a certain number of steps a day (the number will depend on a person's age, current fitness level, and health goals. "
   ]
  },
  {
   "cell_type": "code",
   "execution_count": null,
   "id": "20ffcd7e",
   "metadata": {},
   "outputs": [],
   "source": []
  }
 ],
 "metadata": {
  "kernelspec": {
   "display_name": "Python 3",
   "language": "python",
   "name": "python3"
  },
  "language_info": {
   "codemirror_mode": {
    "name": "ipython",
    "version": 3
   },
   "file_extension": ".py",
   "mimetype": "text/x-python",
   "name": "python",
   "nbconvert_exporter": "python",
   "pygments_lexer": "ipython3",
   "version": "3.6.13"
  }
 },
 "nbformat": 4,
 "nbformat_minor": 5
}
